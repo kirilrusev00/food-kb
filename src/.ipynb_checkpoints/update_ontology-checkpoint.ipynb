{
 "cells": [
  {
   "cell_type": "markdown",
   "id": "6e80676d",
   "metadata": {},
   "source": [
    "# Extend What to Make ontology properties"
   ]
  },
  {
   "cell_type": "code",
   "execution_count": 1,
   "id": "c8a5587c",
   "metadata": {},
   "outputs": [
    {
     "name": "stderr",
     "output_type": "stream",
     "text": [
      "* Owlready2 * Warning: optimized Cython parser module 'owlready2_optimized' is not available, defaulting to slower Python implementation\n"
     ]
    }
   ],
   "source": [
    "from owlready2 import *"
   ]
  },
  {
   "cell_type": "markdown",
   "id": "fbba7bee",
   "metadata": {},
   "source": [
    "## Load original ontologies"
   ]
  },
  {
   "cell_type": "code",
   "execution_count": 2,
   "id": "f445a78b",
   "metadata": {},
   "outputs": [],
   "source": [
    "dish_ontology = get_ontology(\"../ontology/food-repository/init/WhatToMake.rdf\").load()\n",
    "individuals_ontology = get_ontology(\"../ontology/food-repository/init/WhatToMake_Individuals.rdf\").load()"
   ]
  },
  {
   "cell_type": "markdown",
   "id": "eb414be3",
   "metadata": {},
   "source": [
    "## Define new properties"
   ]
  },
  {
   "cell_type": "code",
   "execution_count": 3,
   "id": "5650b7ef",
   "metadata": {},
   "outputs": [],
   "source": [
    "with dish_ontology:\n",
    "    class isIngredientIn(dish_ontology.Ingredient >> dish_ontology.Recipe):\n",
    "        inverse_property = dish_ontology.hasIngredient\n",
    "        pass\n",
    "    \n",
    "    class isEatenBefore(dish_ontology.Meal >> dish_ontology.Meal, TransitiveProperty): pass\n",
    "    \n",
    "    class isEatenAfter(dish_ontology.Meal >> dish_ontology.Meal, TransitiveProperty):\n",
    "        inverse_property = dish_ontology.isEatenBefore\n",
    "        pass"
   ]
  },
  {
   "cell_type": "markdown",
   "id": "eb675d30",
   "metadata": {},
   "source": [
    "## Add new relationships"
   ]
  },
  {
   "cell_type": "code",
   "execution_count": 4,
   "id": "a8c273be",
   "metadata": {},
   "outputs": [],
   "source": [
    "dish_ontology.Breakfast.isEatenBefore = [dish_ontology.Lunch]\n",
    "dish_ontology.Brunch.isEatenBefore = [dish_ontology.Dinner]\n",
    "dish_ontology.Lunch.isEatenBefore = [dish_ontology.Dinner]"
   ]
  },
  {
   "cell_type": "markdown",
   "id": "dde6d829",
   "metadata": {},
   "source": [
    "## Save updated ontologies"
   ]
  },
  {
   "cell_type": "code",
   "execution_count": 5,
   "id": "d6dd4df8",
   "metadata": {},
   "outputs": [],
   "source": [
    "dish_ontology.save('../ontology/food-repository/updated/WhatToMake.rdf')\n",
    "individuals_ontology.save('../ontology/food-repository/updated/WhatToMake_Individuals.rdf')"
   ]
  }
 ],
 "metadata": {
  "kernelspec": {
   "display_name": "Python 3 (ipykernel)",
   "language": "python",
   "name": "python3"
  },
  "language_info": {
   "codemirror_mode": {
    "name": "ipython",
    "version": 3
   },
   "file_extension": ".py",
   "mimetype": "text/x-python",
   "name": "python",
   "nbconvert_exporter": "python",
   "pygments_lexer": "ipython3",
   "version": "3.10.8"
  }
 },
 "nbformat": 4,
 "nbformat_minor": 5
}
